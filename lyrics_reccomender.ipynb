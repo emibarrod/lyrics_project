{
 "cells": [
  {
   "cell_type": "code",
   "execution_count": 31,
   "id": "expected-sheet",
   "metadata": {},
   "outputs": [],
   "source": [
    "import string\n",
    "import nltk\n",
    "import json\n",
    "from azlyrics_scrapping import create_or_open_index\n",
    "from sklearn.metrics.pairwise import cosine_similarity\n",
    "from sklearn.feature_extraction.text import CountVectorizer\n",
    "from nltk.corpus import stopwords"
   ]
  },
  {
   "cell_type": "code",
   "execution_count": 32,
   "id": "determined-administrator",
   "metadata": {},
   "outputs": [],
   "source": [
    "#nltk.download('stopwords')\n",
    "STOPWORDS = set(stopwords.words('english'))|set(stopwords.words('spanish'))"
   ]
  },
  {
   "cell_type": "code",
   "execution_count": 33,
   "id": "renewable-vegetarian",
   "metadata": {},
   "outputs": [],
   "source": [
    "def clean_lyrics(lyrics):\n",
    "    #stopwords = set(nltk.corpus.stopwords.words('english'))\n",
    "    lyrics = \" \".join([word for word in lyrics.split(\" \") if word not in STOPWORDS])\n",
    "    return lyrics"
   ]
  },
  {
   "cell_type": "code",
   "execution_count": 48,
   "id": "conscious-senator",
   "metadata": {},
   "outputs": [],
   "source": [
    "def retrieve_titles_artists_lyrics(index_path='./index'):\n",
    "\n",
    "    index = create_or_open_index(index_path)\n",
    "    all_docs = index.searcher().documents() \n",
    "    all_lyrics = list()\n",
    "    all_titles = list()\n",
    "    all_artists = list()\n",
    "    all_urls = list()\n",
    "\n",
    "    for doc in all_docs:\n",
    "        all_titles.append(doc['title'])\n",
    "        all_lyrics.append(doc['full_lyrics'])\n",
    "        all_artists.append(doc['artist'])\n",
    "        all_urls.append(doc['url'])\n",
    "    \n",
    "    return all_titles, all_lyrics, all_artists, all_urls"
   ]
  },
  {
   "cell_type": "code",
   "execution_count": null,
   "id": "entitled-median",
   "metadata": {},
   "outputs": [],
   "source": [
    "def calculate_cos_sim(all_lyrics, all_titles, all_artists, path='similarities.json'):\n",
    "    \n",
    "    similarities = dict()\n",
    "    all_lyrics = list(map(clean_lyrics, all_lyrics))\n",
    "    vectorizer = CountVectorizer().fit_transform(all_lyrics)\n",
    "    vectors = vectorizer.toarray().tolist()\n",
    "    csim = cosine_similarity(vectors).tolist()\n",
    "    titles_artists = list(zip(all_titles, all_artists))\n",
    "    titles_artists = [\"{} {}\".format(title, artist) for title, artist in titles_artists]\n",
    "\n",
    "    titles_csim =list()\n",
    "    for i, sim in enumerate(csim):\n",
    "        titles_csim.append(list(zip(titles_artists, sim)))\n",
    "    \n",
    "    for j, title_artist in enumerate(titles_artists):\n",
    "        similarities[title_artist] = {tit:csim[j][k] for k, tit in enumerate(titles_artists)}\n",
    "\n",
    "    similarities = json.dumps(similarities)\n",
    "    \n",
    "    with open(path, \"w\") as outfile:\n",
    "        outfile.write(similarities)"
   ]
  },
  {
   "cell_type": "code",
   "execution_count": 70,
   "id": "connected-portland",
   "metadata": {},
   "outputs": [],
   "source": [
    "def calculate_cos_sim(all_lyrics, all_urls, path='similarities.json'):\n",
    "    \n",
    "    similarities = dict()\n",
    "    all_lyrics = list(map(clean_lyrics, all_lyrics))\n",
    "    vectorizer = CountVectorizer().fit_transform(all_lyrics)\n",
    "    vectors = vectorizer.toarray().tolist()\n",
    "    csim = cosine_similarity(vectors).tolist()\n",
    "\n",
    "    urls_csim =list()\n",
    "    for i, sim in enumerate(csim):\n",
    "        urls_csim.append(list(zip(all_urls, sim)))\n",
    "    \n",
    "    for j, url in enumerate(all_urls):\n",
    "        similarities[url] = {u:csim[j][k] for k, u in enumerate(all_urls) if u!=url}\n",
    "\n",
    "    similarities = json.dumps(similarities)\n",
    "    \n",
    "    with open(path, \"w\") as outfile:\n",
    "        outfile.write(similarities)"
   ]
  },
  {
   "cell_type": "code",
   "execution_count": 71,
   "id": "dominican-brunei",
   "metadata": {},
   "outputs": [],
   "source": [
    "all_titles, all_lyrics, all_artists, all_urls = retrieve_titles_artists_lyrics(index_path='./index')\n",
    "#calculate_cos_sim(all_lyrics, all_titles, all_artists)\n",
    "calculate_cos_sim(all_lyrics, all_urls)"
   ]
  },
  {
   "cell_type": "code",
   "execution_count": 72,
   "id": "diagnostic-stability",
   "metadata": {},
   "outputs": [],
   "source": [
    "def load_similarities(path='similarities.json'):\n",
    "    with open(path, 'r') as openfile:\n",
    "        dic = json.load(openfile)\n",
    "    return dic"
   ]
  },
  {
   "cell_type": "code",
   "execution_count": 73,
   "id": "incident-hydrogen",
   "metadata": {},
   "outputs": [],
   "source": [
    "similarities = load_similarities()"
   ]
  },
  {
   "cell_type": "code",
   "execution_count": 74,
   "id": "invalid-reader",
   "metadata": {},
   "outputs": [],
   "source": [
    "botellatrasbotella = similarities['https://www.azlyrics.com/lyrics/geramx/botellatrasbotella.html']"
   ]
  },
  {
   "cell_type": "code",
   "execution_count": 75,
   "id": "marked-sphere",
   "metadata": {},
   "outputs": [
    {
     "data": {
      "text/plain": [
       "'https://www.azlyrics.com/lyrics/badbunny/dakiti.html'"
      ]
     },
     "execution_count": 75,
     "metadata": {},
     "output_type": "execute_result"
    }
   ],
   "source": [
    "import operator\n",
    "max_key = max(botellatrasbotella.items(), key=operator.itemgetter(1))[0]\n",
    "max_key"
   ]
  },
  {
   "cell_type": "code",
   "execution_count": 78,
   "id": "laughing-nursing",
   "metadata": {},
   "outputs": [],
   "source": [
    "index_of_song = all_urls.index('https://www.azlyrics.com/lyrics/geramx/botellatrasbotella.html')\n",
    "song_title, song_lyrics = all_titles[index_of_song], all_lyrics[index_of_song]"
   ]
  },
  {
   "cell_type": "code",
   "execution_count": 79,
   "id": "nervous-snapshot",
   "metadata": {},
   "outputs": [
    {
     "data": {
      "text/plain": [
       "'botella tras botella ando tomando pa\\' olvidarme de ella (pa\\' olvidarme de ella) de ella de ella no más hablo en todas mis pedas (en todas mis pedas) a mis compas bien hartos traigo ya me dicen \"wey ya la tienes que superar\" pero yo no puedo pa\\' ser sinceros yo ni quiero mejor su recuerdo me lo bebo los tragos me saben mejor así estaba pensando en llamarte y yo te miro por todas partes pero ya no nos vemos puede que lo olvidemos dos tragos y vuelvo a pensarte me aferro no quiero olvidarte sentimientos ajenos los celos no son buenos y si me llamas contesto aunque nunca va a pasar eso (aunque nunca va a pasar eso) ya mejor ni te molesto porque se que vuelvo a joderlo (a huevo que vuelvo a joderlo) y ahora que ando tomando bebida me siento triste y ya va a amanecer a veces borracho las penas se olvidan pero nunca te dejé de querer fui mal partido querida todas mis pedas marcándote al cel le puse sal a la herida cómo quisiera volver al ayer sentimental yo me pongo siempre me acuerdo de ti (yo siempre me acuerdo de ti) me agarra la depre seguido ya hasta te escribí un cd (ya hasta te escribí un cd) botella tras botella vo\\'a tomarme pa\\' acordarme de ella (pa\\' acordarme de ella) de ella de ella estoy hablando como siempre en mis pedas (como siempre en mis pedas) a mis compas bien hartos traigo ya me dicen \"wey ya la tienes que superar\" pero yo no puedo pa\\' ser sinceros yo ni quiero mejor su recuerdo me lo bebo los tragos me saben mejor así estaba pensando en llamarte y yo estaba pensando en llamarte y yo pero ya no nos vemos pero ya no nos vemos sentimental yo me pongo siempre me acuerdo de ti (yo siempre me acuerdo de ti) me agarra la depre seguido ya hasta te escribí un cd (ya hasta te escribí un cd) y si amas a alguien no la dejes ir para que no tengas que dedicarle una canción como esta paz'"
      ]
     },
     "execution_count": 79,
     "metadata": {},
     "output_type": "execute_result"
    }
   ],
   "source": [
    "song_lyrics"
   ]
  },
  {
   "cell_type": "code",
   "execution_count": 80,
   "id": "opened-hartford",
   "metadata": {},
   "outputs": [],
   "source": [
    "index_of_similar_song = all_urls.index(max_key)\n",
    "similar_song_title, similar_song_lyrics = all_titles[index_of_similar_song], all_lyrics[index_of_similar_song]"
   ]
  },
  {
   "cell_type": "code",
   "execution_count": 81,
   "id": "attended-consistency",
   "metadata": {},
   "outputs": [
    {
     "data": {
      "text/plain": [
       "\"baby ya yo me enteré se nota cuando me ve ahí donde no has llegao sabes que yo te llevaré y dime qué quieres beber es que tú eres mi bebé y de nosotros quién va a hablar si no nos dejamos ver y a veces es dolce a veces es bulgari cuando te lo quito después de lo' party las copas de vino las libras de mari tú 'tas bien suelta y yo de safari tú mueves el culo fenomenal pa' yo devorarte como animal si no te has venido yo te vo' a esperar en mi cama y lo vo' a celebrar baby a ti no me opongo y siempre te lo pongo y si tú me tira vamo' a nadar en lo hondo si es por mí te lo pongo de septiembre hasta agosto a mí sin cojones los que digan tus amigas ya yo me enteré se nota cuando me ve ahí donde no has llegao' sabes que yo te llevaré dime qué quieres beber es que tú eres mi bebé y de nosotros quién va a hablar si no nos dejamos ver (¿me sigue?) mami me tiene' jukiao sí si fuera la urus me tuviese' parkiao dando vuelta por el condado contigo siempre arrebatao tú no eres mi señora pero toma 5 mil gástalo en sephora louis vuitton ya no compra en pandora como piercing a los hombres perfora eh hace tiempo le rompieron el cora (el cora) estudiosa puesta pa' ser doctora (doctora) pero le gustan los títere' wileando motora (motora) yo estoy pa' ti las 24 hora' baby a ti no me opongo y siempre te lo pongo (yo te lo pongo) y si tú me tira' vamo' a nadar en lo hondo (nadar en lo hondo) si es por mí yo te lo pongo de septiembre hasta agosto y a mí sin cojones los que digan tus amigas ya yo me enteré se nota cuando me ve ahí donde no has llegao sabes que yo te llevaré y dime qué quieres beber es que tú eres mi bebé y de nosotros quién va a hablar si no nos dejamos ver y a veces es dolce a veces es bulgari cuando te lo quito después de lo' party las copas de vino las libras de mari tú 'tas bien suelta y yo de safari tú mueves el culo fenomenal pa' yo devorarte como animal si no te has venido yo te vo' a esperar en mi cama y lo vo' a celebrar\""
      ]
     },
     "execution_count": 81,
     "metadata": {},
     "output_type": "execute_result"
    }
   ],
   "source": [
    "similar_song_lyrics"
   ]
  }
 ],
 "metadata": {
  "kernelspec": {
   "display_name": "Python 3",
   "language": "python",
   "name": "python3"
  },
  "language_info": {
   "codemirror_mode": {
    "name": "ipython",
    "version": 3
   },
   "file_extension": ".py",
   "mimetype": "text/x-python",
   "name": "python",
   "nbconvert_exporter": "python",
   "pygments_lexer": "ipython3",
   "version": "3.8.5"
  }
 },
 "nbformat": 4,
 "nbformat_minor": 5
}
